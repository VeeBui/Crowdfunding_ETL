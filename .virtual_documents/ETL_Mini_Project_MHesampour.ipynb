# Import dependencies
import pandas as pd
import numpy as np
pd.set_option('max_colwidth', 400)





# Read the data into a Pandas DataFrame
crowdfunding_info_df = pd.read_excel('Resources/crowdfunding.xlsx')
crowdfunding_info_df.head()


# Get a brief summary of the crowdfunding_info DataFrame.
crowdfunding_info_df.info()





# Get the crowdfunding_info_df columns.
col_names = crowdfunding_info_df.columns
col_names


# Assign the category and subcategory values to category and subcategory columns.
crowdfunding_info_df[["category","subcategory"]] = crowdfunding_info_df["category & sub-category"].str.split("/",expand=True)
crowdfunding_info_df.head()


# Get the unique categories and subcategories in separate lists.
categories = crowdfunding_info_df["category"].unique()
subcategories = crowdfunding_info_df["subcategory"].unique()

print(categories)
print(subcategories)


# Get the number of distinct values in the categories and subcategories lists.
n_cat = len(categories)
n_subcat = len(subcategories)

print(n_cat)
print(n_subcat)


# Create numpy arrays from 1-9 for the categories and 1-24 for the subcategories.
category_ids = np.arange(1, n_cat + 1)
subcategory_ids = np.arange(1, n_subcat + 1)

print(category_ids)
print(subcategory_ids)


# Use a list comprehension to add "cat" to each category_id. 
cat_ids = [f"cat%.0f" % i for i in category_ids]

# Use a list comprehension to add "subcat" to each subcategory_id.    
subcat_ids = [f"subcat%.0f" % i for i in subcategory_ids]
    
print(cat_ids)
print(subcat_ids)


# Create a category DataFrame with the category_id array as the category_id and categories list as the category name.
category_df = pd.DataFrame({"category_id": cat_ids, "category": categories})

# Create a category DataFrame with the subcategory_id array as the subcategory_id and subcategories list as the subcategory name. 
subcategory_df = pd.DataFrame({"subcategory_id": subcat_ids, "subcategory": subcategories})


category_df


subcategory_df


# Export categories_df and subcategories_df as CSV files.
category_df.to_csv("Resources/category.csv", index=False)

subcategory_df.to_csv("Resources/subcategory.csv", index=False)





# Create a copy of the crowdfunding_info_df DataFrame name campaign_df. 
campaign_df = crowdfunding_info_df.copy()
campaign_df.head()


# Rename the blurb, launched_at, and deadline columns.
campaign_df = campaign_df.rename(columns={"blurb": "description","launched_at": "launched_date","deadline": "end_date"})
campaign_df.head()


# Convert the goal and pledged columns to a `float` data type.
campaign_df["goal"] = campaign_df["goal"].astype(float)
campaign_df["pledged"] = campaign_df["pledged"].astype(float)
campaign_df.head()


# Check the datatypes
campaign_df.dtypes


# Format the launched_date and end_date columns to datetime format
from datetime import datetime as dt
campaign_df["launched_date"] = pd.to_datetime(campaign_df["launched_date"],unit='s')
campaign_df["end_date"] = pd.to_datetime(campaign_df["end_date"],unit='s')

campaign_df.head()


# Merge the campaign_df with the category_df on the "category" column and 
# the subcategory_df on the "subcategory" column.
temp = pd.merge(campaign_df,category_df,how="left")
campaign_merged_df = pd.merge(temp,subcategory_df,how="left")

campaign_merged_df.tail(10)


# Drop unwanted columns
campaign_cleaned = campaign_merged_df.drop(columns=["staff_pick","spotlight","category & sub-category","category","subcategory"])
campaign_cleaned.head()


# Export the DataFrame as a CSV file. 
campaign_cleaned.to_csv("Resources/campaign.csv", index=False)





# Read the data into a Pandas DataFrame. Use the `header=2` parameter when reading in the data.
contact_info_df = pd.read_excel('Resources/contacts.xlsx', header=3)
contact_info_df.head()








# Iterate through the contact_info_df and convert each row to a dictionary.
import json

dict_values = []
for i, row in contact_info_df.iterrows():
    data = row[0]
    converted_data = json.loads(data)
    # Iterate through each dictionary (row) and get the values for each row using list comprehension.
    row_values =[v for k, v in converted_data.items()]
    # Append the list of values for each row to a list. 
    dict_values.append(row_values)
    
# Print out the list of values for each row.
print(dict_values)


# Create a contact_info DataFrame and add each list of values, i.e., each row 
# to the 'contact_id', 'name', 'email' columns.
columns=['contact_id', 'name', 'email']
contact_df=pd.DataFrame(dict_values , columns=columns)
contact_df.head()


# Check the datatypes.
contact_df.info()


# Create a "first"name" and "last_name" column with the first and last names from the "name" column. 

contact_df[['first_name' , 'last_name']]=contact_df['name'].str.split(' ' , expand=True)
# Drop the contact_name column
contact_df.drop(columns=['name'], inplace=True)
contact_df.head()



# Reorder the columns
contacts_df_clean=contact_df[['contact_id' , 'first_name' , 'last_name' , 'email']]
contacts_df_clean.head()


# Check the datatypes one more time before exporting as CSV file.
contacts_df_clean.info()


# Export the DataFrame as a CSV file. 
contacts_df_clean.to_csv("Resources/contacts.csv", encoding='utf8', index=False)





contact_info_df_copy = contact_info_df.copy()
contact_info_df_copy.head()


# Extract the four-digit contact ID number.
contact_info_df_copy['contact_id'] = contact_info_df_copy['contact_info'].str.extract(r'contact_id": (\d{4})')
contact_info_df_copy


# Check the datatypes.
contact_info_df_copy.info()


# Convert the "contact_id" column to an int64 data type.
contact_info_df_copy['contact_id']=contact_info_df_copy['contact_id'].astype(int)


# Extract the name of the contact and add it to a new column.
contact_info_df_copy['name'] = contact_info_df_copy['contact_info'].str.extract(r'"name": "([^"]*)"')
contact_info_df_copy


# Extract the email from the contacts and add the values to a new column.
contact_info_df_copy['email'] = contact_info_df_copy['contact_info'].str.extract(r'"email": "([^"]*)"')
contact_info_df_copy


# Create a copy of the contact_info_df with the 'contact_id', 'name', 'email' columns.
Contact_info=contact_info_df_copy.copy()
Contact_info=Contact_info[['contact_id', 'name' , 'email']]
Contact_info


# Create a "first"name" and "last_name" column with the first and last names from the "name" column. 
Contact_info[['first_name', 'last_name']] = Contact_info['name'].str.split(' ', expand=True)

# Drop the contact_name column
del Contact_info['name']





# Reorder the columns
Contact_info=Contact_info[['contact_id', 'first_name', 'last_name' , 'email']]


# Check the datatypes one more time before exporting as CSV file.
Contact_info.info()


# Export the DataFrame as a CSV file. 
# contacts_df_clean.to_csv("Resources/contacts.csv", encoding='utf8', index=False)
Contact_info.to_csv("Resources/contacts.csv", encoding='utf8', index=False)



